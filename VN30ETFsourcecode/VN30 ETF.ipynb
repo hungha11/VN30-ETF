{
 "cells": [
  {
   "cell_type": "code",
   "execution_count": 34,
   "outputs": [],
   "source": [
    "#import library\n",
    "import numpy as np\n",
    "import pandas as pd\n",
    "import  requests\n",
    "import xlsxwriter\n",
    "import math\n",
    "\n",
    "stocks = pd.read_csv('VN30.csv')\n",
    "from Secret_api import IEX_CLOUD_API_TOKEN\n",
    "\n",
    "symbol ='ACB-VM'\n",
    "\n",
    "api_url =f'https://cloud.iexapis.com/stable/stock/{symbol}/quote/?token={IEX_CLOUD_API_TOKEN}'\n",
    "data = requests.get(api_url).json()\n",
    "\n",
    "price = data['latestPrice']\n",
    "market_cap = data['marketCap']\n",
    "\n",
    "\n",
    "\n",
    "my_columns = ['Ticker', 'Stock Price', 'Market Capitalization','Weight', 'Number of Shares to Buy']\n",
    "final_dataframe = pd.DataFrame(columns = my_columns)\n",
    "\n",
    "final_dataframe.append(\n",
    "    pd.Series(\n",
    "    [\n",
    "        symbol,\n",
    "        price,\n",
    "        market_cap,\n",
    "        'N/A',\n",
    "        'N/A'\n",
    "    ],\n",
    "        index = my_columns\n",
    "    ),\n",
    "    ignore_index=True\n",
    ")\n",
    "\n",
    "def chunks(lst, n):\n",
    "    \"\"\"Yield successive n-sized chunks from lst.\"\"\"\n",
    "    for i in range(0, len(lst), n):\n",
    "        yield lst[i:i + n]\n",
    "\n",
    "\n",
    "symbol_groups = list(chunks(stocks['Ticker'], 100))\n",
    "symbol_strings = []\n",
    "for i in range(0, len(symbol_groups)):\n",
    "    symbol_strings.append(','.join(symbol_groups[i]))\n",
    "    # print(symbol_strings[i])\n",
    "\n",
    "final_dataframe = pd.DataFrame(columns=my_columns)"
   ],
   "metadata": {
    "collapsed": false,
    "pycharm": {
     "name": "#%%\n"
    }
   }
  },
  {
   "cell_type": "code",
   "execution_count": 35,
   "outputs": [
    {
     "name": "stdout",
     "output_type": "stream",
     "text": [
      "71000000000\n",
      "2366666666.6666665\n"
     ]
    }
   ],
   "source": [
    "\n",
    "for symbol_string in symbol_strings:\n",
    "    batch_api_call_url = f'https://cloud.iexapis.com/stable/stock/market/batch?symbols={symbol_string}&types=quote&token={IEX_CLOUD_API_TOKEN}'\n",
    "    data = requests.get(batch_api_call_url).json()\n",
    "    for symbol in symbol_string.split(',', ):\n",
    "        final_dataframe = final_dataframe.append(\n",
    "            pd.Series(\n",
    "                [\n",
    "                    symbol,\n",
    "                    data[symbol]['quote'][\"latestPrice\"],\n",
    "                    data[symbol]['quote'][\"marketCap\"],\n",
    "                    'N/A',\n",
    "                    'N/A'\n",
    "                ], index=my_columns\n",
    "            ), ignore_index=True\n",
    "        )\n",
    "\n",
    "\n",
    "\n",
    "portfolio_size = input('Enter the value of your portfolio: ' + 'VND')\n",
    "try:\n",
    "    val = float(portfolio_size)\n",
    "\n",
    "except ValueError:\n",
    "    print('Please try again\\n Enter a new number')\n",
    "    portfolio_size = input('Enter the value of your portfolio: ' + 'VND')\n",
    "    val = float(portfolio_size)\n",
    "\n",
    "position_size = float(portfolio_size) / len(final_dataframe.index)\n",
    "print(portfolio_size)\n",
    "print(position_size)"
   ],
   "metadata": {
    "collapsed": false,
    "pycharm": {
     "name": "#%%\n"
    }
   }
  },
  {
   "cell_type": "code",
   "execution_count": 36,
   "outputs": [
    {
     "name": "stdout",
     "output_type": "stream",
     "text": [
      "VN30 ETF\n",
      "70893375000\n"
     ]
    },
    {
     "data": {
      "text/plain": "    Ticker Stock Price Market Capitalization  Weight Number of Shares to Buy  \\\n0   ACB-VM       33400        90245065705000  0.0227                   48200   \n1   BID-VM       45500       183001820820000  0.0461                   71900   \n2   BVH-VM       59200        43945507628800  0.0111                   13300   \n3   CTG-VM       33500       160992645401500  0.0406                   86000   \n4   FPT-VM       96000        87117050208000  0.0219                   16100   \n5   GAS-VM       98000       187567100000000  0.0472                   34100   \n6   GVR-VM       38500       154000000000000  0.0388                   71500   \n7   HDB-VM       30050        59865884056000  0.0151                   35600   \n8   HPG-VM       46550       208214551964300  0.0524                   79900   \n9   KDH-VM       49600        31889678622400   0.008                   11400   \n10  MBB-VM       28400       107304338466800   0.027                   67500   \n11  MSN-VM      156000       184163411952000  0.0464                   21100   \n12  MWG-VM      134900        96170987293800  0.0242                   12700   \n13  NVL-VM      112100       165191189889900  0.0416                   26300   \n14  PDR-VM       98300        47849679342800  0.0121                    8700   \n15  PLX-VM       53700        68230803019500  0.0172                   22700   \n16  PNJ-VM       98500        22395606455500  0.0056                    4000   \n17  POW-VM       16200        37938319920000  0.0096                   42000   \n18  SAB-VM      152300        97667124627800  0.0246                   11400   \n19  SSI-VM       53400        52457962910400  0.0132                   17500   \n20  STB-VM       28650        54011430263400  0.0136                   33700   \n21  TCB-VM       50000       175545739900000  0.0442                   62700   \n22  TPB-VM       50500        59169421961000  0.0149                   20900   \n23  VCB-VM       99600       369404193820800  0.0931                   66300   \n24  VHM-VM       82100       357493570764800  0.0901                   77900   \n25  VIC-VM      103200       392698166431200  0.0989                   68000   \n26  VJC-VM      125800        68134705817200  0.0172                    9700   \n27  VNM-VM       86400       180572150448000  0.0455                   37300   \n28  VPB-VM       35400       157369757899800  0.0396                   79400   \n29  VRE-VM       30450        69192095584500  0.0174                   40500   \n\n   TOTAL MONEY (VND)  \n0         1609880000  \n1         3271450000  \n2          787360000  \n3         2881000000  \n4         1545600000  \n5         3341800000  \n6         2752750000  \n7         1069780000  \n8         3719345000  \n9          565440000  \n10        1917000000  \n11        3291600000  \n12        1713230000  \n13        2948230000  \n14         855210000  \n15        1218990000  \n16         394000000  \n17         680400000  \n18        1736220000  \n19         934500000  \n20         965505000  \n21        3135000000  \n22        1055450000  \n23        6603480000  \n24        6395590000  \n25        7017600000  \n26        1220260000  \n27        3222720000  \n28        2810760000  \n29        1233225000  ",
      "text/html": "<div>\n<style scoped>\n    .dataframe tbody tr th:only-of-type {\n        vertical-align: middle;\n    }\n\n    .dataframe tbody tr th {\n        vertical-align: top;\n    }\n\n    .dataframe thead th {\n        text-align: right;\n    }\n</style>\n<table border=\"1\" class=\"dataframe\">\n  <thead>\n    <tr style=\"text-align: right;\">\n      <th></th>\n      <th>Ticker</th>\n      <th>Stock Price</th>\n      <th>Market Capitalization</th>\n      <th>Weight</th>\n      <th>Number of Shares to Buy</th>\n      <th>TOTAL MONEY (VND)</th>\n    </tr>\n  </thead>\n  <tbody>\n    <tr>\n      <th>0</th>\n      <td>ACB-VM</td>\n      <td>33400</td>\n      <td>90245065705000</td>\n      <td>0.0227</td>\n      <td>48200</td>\n      <td>1609880000</td>\n    </tr>\n    <tr>\n      <th>1</th>\n      <td>BID-VM</td>\n      <td>45500</td>\n      <td>183001820820000</td>\n      <td>0.0461</td>\n      <td>71900</td>\n      <td>3271450000</td>\n    </tr>\n    <tr>\n      <th>2</th>\n      <td>BVH-VM</td>\n      <td>59200</td>\n      <td>43945507628800</td>\n      <td>0.0111</td>\n      <td>13300</td>\n      <td>787360000</td>\n    </tr>\n    <tr>\n      <th>3</th>\n      <td>CTG-VM</td>\n      <td>33500</td>\n      <td>160992645401500</td>\n      <td>0.0406</td>\n      <td>86000</td>\n      <td>2881000000</td>\n    </tr>\n    <tr>\n      <th>4</th>\n      <td>FPT-VM</td>\n      <td>96000</td>\n      <td>87117050208000</td>\n      <td>0.0219</td>\n      <td>16100</td>\n      <td>1545600000</td>\n    </tr>\n    <tr>\n      <th>5</th>\n      <td>GAS-VM</td>\n      <td>98000</td>\n      <td>187567100000000</td>\n      <td>0.0472</td>\n      <td>34100</td>\n      <td>3341800000</td>\n    </tr>\n    <tr>\n      <th>6</th>\n      <td>GVR-VM</td>\n      <td>38500</td>\n      <td>154000000000000</td>\n      <td>0.0388</td>\n      <td>71500</td>\n      <td>2752750000</td>\n    </tr>\n    <tr>\n      <th>7</th>\n      <td>HDB-VM</td>\n      <td>30050</td>\n      <td>59865884056000</td>\n      <td>0.0151</td>\n      <td>35600</td>\n      <td>1069780000</td>\n    </tr>\n    <tr>\n      <th>8</th>\n      <td>HPG-VM</td>\n      <td>46550</td>\n      <td>208214551964300</td>\n      <td>0.0524</td>\n      <td>79900</td>\n      <td>3719345000</td>\n    </tr>\n    <tr>\n      <th>9</th>\n      <td>KDH-VM</td>\n      <td>49600</td>\n      <td>31889678622400</td>\n      <td>0.008</td>\n      <td>11400</td>\n      <td>565440000</td>\n    </tr>\n    <tr>\n      <th>10</th>\n      <td>MBB-VM</td>\n      <td>28400</td>\n      <td>107304338466800</td>\n      <td>0.027</td>\n      <td>67500</td>\n      <td>1917000000</td>\n    </tr>\n    <tr>\n      <th>11</th>\n      <td>MSN-VM</td>\n      <td>156000</td>\n      <td>184163411952000</td>\n      <td>0.0464</td>\n      <td>21100</td>\n      <td>3291600000</td>\n    </tr>\n    <tr>\n      <th>12</th>\n      <td>MWG-VM</td>\n      <td>134900</td>\n      <td>96170987293800</td>\n      <td>0.0242</td>\n      <td>12700</td>\n      <td>1713230000</td>\n    </tr>\n    <tr>\n      <th>13</th>\n      <td>NVL-VM</td>\n      <td>112100</td>\n      <td>165191189889900</td>\n      <td>0.0416</td>\n      <td>26300</td>\n      <td>2948230000</td>\n    </tr>\n    <tr>\n      <th>14</th>\n      <td>PDR-VM</td>\n      <td>98300</td>\n      <td>47849679342800</td>\n      <td>0.0121</td>\n      <td>8700</td>\n      <td>855210000</td>\n    </tr>\n    <tr>\n      <th>15</th>\n      <td>PLX-VM</td>\n      <td>53700</td>\n      <td>68230803019500</td>\n      <td>0.0172</td>\n      <td>22700</td>\n      <td>1218990000</td>\n    </tr>\n    <tr>\n      <th>16</th>\n      <td>PNJ-VM</td>\n      <td>98500</td>\n      <td>22395606455500</td>\n      <td>0.0056</td>\n      <td>4000</td>\n      <td>394000000</td>\n    </tr>\n    <tr>\n      <th>17</th>\n      <td>POW-VM</td>\n      <td>16200</td>\n      <td>37938319920000</td>\n      <td>0.0096</td>\n      <td>42000</td>\n      <td>680400000</td>\n    </tr>\n    <tr>\n      <th>18</th>\n      <td>SAB-VM</td>\n      <td>152300</td>\n      <td>97667124627800</td>\n      <td>0.0246</td>\n      <td>11400</td>\n      <td>1736220000</td>\n    </tr>\n    <tr>\n      <th>19</th>\n      <td>SSI-VM</td>\n      <td>53400</td>\n      <td>52457962910400</td>\n      <td>0.0132</td>\n      <td>17500</td>\n      <td>934500000</td>\n    </tr>\n    <tr>\n      <th>20</th>\n      <td>STB-VM</td>\n      <td>28650</td>\n      <td>54011430263400</td>\n      <td>0.0136</td>\n      <td>33700</td>\n      <td>965505000</td>\n    </tr>\n    <tr>\n      <th>21</th>\n      <td>TCB-VM</td>\n      <td>50000</td>\n      <td>175545739900000</td>\n      <td>0.0442</td>\n      <td>62700</td>\n      <td>3135000000</td>\n    </tr>\n    <tr>\n      <th>22</th>\n      <td>TPB-VM</td>\n      <td>50500</td>\n      <td>59169421961000</td>\n      <td>0.0149</td>\n      <td>20900</td>\n      <td>1055450000</td>\n    </tr>\n    <tr>\n      <th>23</th>\n      <td>VCB-VM</td>\n      <td>99600</td>\n      <td>369404193820800</td>\n      <td>0.0931</td>\n      <td>66300</td>\n      <td>6603480000</td>\n    </tr>\n    <tr>\n      <th>24</th>\n      <td>VHM-VM</td>\n      <td>82100</td>\n      <td>357493570764800</td>\n      <td>0.0901</td>\n      <td>77900</td>\n      <td>6395590000</td>\n    </tr>\n    <tr>\n      <th>25</th>\n      <td>VIC-VM</td>\n      <td>103200</td>\n      <td>392698166431200</td>\n      <td>0.0989</td>\n      <td>68000</td>\n      <td>7017600000</td>\n    </tr>\n    <tr>\n      <th>26</th>\n      <td>VJC-VM</td>\n      <td>125800</td>\n      <td>68134705817200</td>\n      <td>0.0172</td>\n      <td>9700</td>\n      <td>1220260000</td>\n    </tr>\n    <tr>\n      <th>27</th>\n      <td>VNM-VM</td>\n      <td>86400</td>\n      <td>180572150448000</td>\n      <td>0.0455</td>\n      <td>37300</td>\n      <td>3222720000</td>\n    </tr>\n    <tr>\n      <th>28</th>\n      <td>VPB-VM</td>\n      <td>35400</td>\n      <td>157369757899800</td>\n      <td>0.0396</td>\n      <td>79400</td>\n      <td>2810760000</td>\n    </tr>\n    <tr>\n      <th>29</th>\n      <td>VRE-VM</td>\n      <td>30450</td>\n      <td>69192095584500</td>\n      <td>0.0174</td>\n      <td>40500</td>\n      <td>1233225000</td>\n    </tr>\n  </tbody>\n</table>\n</div>"
     },
     "execution_count": 36,
     "metadata": {},
     "output_type": "execute_result"
    }
   ],
   "source": [
    "print('VN30 ETF')\n",
    "\n",
    "for i in range(0, len(final_dataframe.index)):\n",
    "    final_dataframe.loc[i, 'Weight'] =  round(final_dataframe.loc[i, 'Market Capitalization']/sum(final_dataframe['Market Capitalization']),4)\n",
    "    final_dataframe.loc[i, 'Number of Shares to Buy'] = math.floor(math.floor(val*final_dataframe.loc[i, 'Weight'] / final_dataframe.loc[i, 'Stock Price']) / 100) * 100\n",
    "    final_dataframe['TOTAL MONEY (VND)'] = final_dataframe['Number of Shares to Buy'] * final_dataframe['Stock Price']\n",
    "\n",
    "Money_use = sum(final_dataframe['TOTAL MONEY (VND)'])\n",
    "print(Money_use)\n",
    "final_dataframe"
   ],
   "metadata": {
    "collapsed": false,
    "pycharm": {
     "name": "#%%\n"
    }
   }
  },
  {
   "cell_type": "code",
   "execution_count": null,
   "outputs": [],
   "source": [],
   "metadata": {
    "collapsed": false,
    "pycharm": {
     "name": "#%%\n"
    }
   }
  }
 ],
 "metadata": {
  "kernelspec": {
   "display_name": "Python 3",
   "language": "python",
   "name": "python3"
  },
  "language_info": {
   "codemirror_mode": {
    "name": "ipython",
    "version": 2
   },
   "file_extension": ".py",
   "mimetype": "text/x-python",
   "name": "python",
   "nbconvert_exporter": "python",
   "pygments_lexer": "ipython2",
   "version": "2.7.6"
  }
 },
 "nbformat": 4,
 "nbformat_minor": 0
}